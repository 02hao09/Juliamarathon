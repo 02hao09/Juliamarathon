{
 "cells": [
  {
   "cell_type": "markdown",
   "metadata": {
    "colab_type": "text",
    "id": "L7zmWas2bjuO"
   },
   "source": [
    "# Julia 套件管理 (Package Management)\n",
    "\n",
    "## Day 003 作業\n",
    "\n",
    "在接下來的課程中，我們還會用到許多不同套件，請在今天的作業中先行安裝下列套件：`CSV.jl` （將會在資料操作的單元介紹）。"
   ]
  },
  {
   "cell_type": "markdown",
   "metadata": {
    "colab_type": "text",
    "id": "N_wqOR1fbjuR"
   },
   "source": [
    "### 指定安裝套件及版本\n",
    "\n",
    "今日作業請以 Functional API 模式進行套件安裝，並且指定安裝 0.5.26 版。\n",
    "\n",
    "安裝完成後請呼叫 `Pkg.installed()` 函式檢查已安裝的版本。"
   ]
  },
  {
   "cell_type": "code",
   "execution_count": 1,
   "metadata": {
    "colab": {},
    "colab_type": "code",
    "id": "1AJeFvbdbjuS"
   },
   "outputs": [
    {
     "name": "stderr",
     "output_type": "stream",
     "text": [
      "\u001b[32m\u001b[1m   Updating\u001b[22m\u001b[39m registry at `C:\\Users\\hao\\.julia\\registries\\General`\n",
      "\u001b[32m\u001b[1m   Updating\u001b[22m\u001b[39m git-repo `https://github.com/JuliaRegistries/General.git`\n"
     ]
    },
    {
     "name": "stdout",
     "output_type": "stream",
     "text": [
      "\u001b[2K\u001b[?25h[1mFetching:\u001b[22m\u001b[39m [========================================>]  100.0 %.0 %"
     ]
    },
    {
     "name": "stderr",
     "output_type": "stream",
     "text": [
      "\u001b[32m\u001b[1m  Resolving\u001b[22m\u001b[39m package versions...\n",
      "\u001b[32m\u001b[1m  Installed\u001b[22m\u001b[39m FilePathsBase ───── v0.7.0\n",
      "\u001b[32m\u001b[1m  Installed\u001b[22m\u001b[39m Parsers ─────────── v0.3.12\n",
      "\u001b[32m\u001b[1m  Installed\u001b[22m\u001b[39m CategoricalArrays ─ v0.7.7\n",
      "\u001b[32m\u001b[1m  Installed\u001b[22m\u001b[39m DataFrames ──────── v0.20.2\n",
      "\u001b[32m\u001b[1m  Installed\u001b[22m\u001b[39m CSV ─────────────── v0.5.26\n",
      "\u001b[32m\u001b[1m   Updating\u001b[22m\u001b[39m `C:\\Users\\hao\\.julia\\environments\\v1.4\\Project.toml`\n",
      " \u001b[90m [336ed68f]\u001b[39m\u001b[95m ↓ CSV v0.6.2 ⇒ v0.5.26\u001b[39m\n",
      "\u001b[32m\u001b[1m   Updating\u001b[22m\u001b[39m `C:\\Users\\hao\\.julia\\environments\\v1.4\\Manifest.toml`\n",
      " \u001b[90m [336ed68f]\u001b[39m\u001b[95m ↓ CSV v0.6.2 ⇒ v0.5.26\u001b[39m\n",
      " \u001b[90m [324d7699]\u001b[39m\u001b[95m ↓ CategoricalArrays v0.8.0 ⇒ v0.7.7\u001b[39m\n",
      " \u001b[90m [a93c6f00]\u001b[39m\u001b[95m ↓ DataFrames v0.21.0 ⇒ v0.20.2\u001b[39m\n",
      " \u001b[90m [48062228]\u001b[39m\u001b[95m ↓ FilePathsBase v0.8.0 ⇒ v0.7.0\u001b[39m\n",
      " \u001b[90m [69de0a69]\u001b[39m\u001b[95m ↓ Parsers v1.0.3 ⇒ v0.3.12\u001b[39m\n"
     ]
    }
   ],
   "source": [
    "\n",
    "using Pkg\n",
    "Pkg.add(PackageSpec(name=\"CSV\", version=\"0.5.26\"))"
   ]
  },
  {
   "cell_type": "code",
   "execution_count": 2,
   "metadata": {},
   "outputs": [
    {
     "name": "stderr",
     "output_type": "stream",
     "text": [
      "┌ Info: Precompiling CSV [336ed68f-0bac-5ca0-87d4-7b16caf5d00b]\n",
      "└ @ Base loading.jl:1260\n",
      "┌ Warning: Pkg.installed() is deprecated\n",
      "└ @ Pkg D:\\buildbot\\worker\\package_win64\\build\\usr\\share\\julia\\stdlib\\v1.4\\Pkg\\src\\Pkg.jl:531\n"
     ]
    },
    {
     "data": {
      "text/plain": [
       "v\"0.5.26\""
      ]
     },
     "execution_count": 2,
     "metadata": {},
     "output_type": "execute_result"
    }
   ],
   "source": [
    "using CSV\n"
   ]
  },
  {
   "cell_type": "code",
   "execution_count": 6,
   "metadata": {},
   "outputs": [
    {
     "name": "stderr",
     "output_type": "stream",
     "text": [
      "┌ Warning: Pkg.installed() is deprecated\n",
      "└ @ Pkg D:\\buildbot\\worker\\package_win64\\build\\usr\\share\\julia\\stdlib\\v1.4\\Pkg\\src\\Pkg.jl:531\n"
     ]
    },
    {
     "data": {
      "text/plain": [
       "v\"0.5.26\""
      ]
     },
     "execution_count": 6,
     "metadata": {},
     "output_type": "execute_result"
    }
   ],
   "source": [
    "Pkg.installed()[\"CSV\"]"
   ]
  },
  {
   "cell_type": "markdown",
   "metadata": {
    "colab_type": "text",
    "id": "Nf5kQrNbbjuW"
   },
   "source": [
    "### 不指定安裝版本"
   ]
  },
  {
   "cell_type": "code",
   "execution_count": 2,
   "metadata": {
    "colab": {},
    "colab_type": "code",
    "id": "a6CesdGZbjuY",
    "outputId": "f61b4a0e-86ee-4c26-825e-7a3044b5c110"
   },
   "outputs": [
    {
     "name": "stderr",
     "output_type": "stream",
     "text": [
      "\u001b[32m\u001b[1m  Resolving\u001b[22m\u001b[39m package versions...\n",
      "\u001b[32m\u001b[1m   Updating\u001b[22m\u001b[39m `C:\\Users\\hao\\.julia\\environments\\v1.4\\Project.toml`\n",
      "\u001b[90m [no changes]\u001b[39m\n",
      "\u001b[32m\u001b[1m   Updating\u001b[22m\u001b[39m `C:\\Users\\hao\\.julia\\environments\\v1.4\\Manifest.toml`\n",
      "\u001b[90m [no changes]\u001b[39m\n"
     ]
    }
   ],
   "source": [
    "using Pkg\n",
    "\n",
    "Pkg.add(\"CSV\")"
   ]
  },
  {
   "cell_type": "code",
   "execution_count": 3,
   "metadata": {
    "colab": {},
    "colab_type": "code",
    "id": "PXcjFJsjbjuc"
   },
   "outputs": [
    {
     "name": "stderr",
     "output_type": "stream",
     "text": [
      "┌ Warning: Pkg.installed() is deprecated\n",
      "└ @ Pkg D:\\buildbot\\worker\\package_win64\\build\\usr\\share\\julia\\stdlib\\v1.4\\Pkg\\src\\Pkg.jl:531\n"
     ]
    },
    {
     "data": {
      "text/plain": [
       "Dict{String,VersionNumber} with 2 entries:\n",
       "  \"CSV\"    => v\"0.6.2\"\n",
       "  \"IJulia\" => v\"1.21.2\""
      ]
     },
     "execution_count": 3,
     "metadata": {},
     "output_type": "execute_result"
    }
   ],
   "source": [
    "Pkg.installed()"
   ]
  },
  {
   "cell_type": "code",
   "execution_count": 4,
   "metadata": {},
   "outputs": [
    {
     "data": {
      "text/plain": [
       "Dict{Base.UUID,Pkg.Types.PackageInfo} with 54 entries:\n",
       "  UUID(\"56ddb016-857b-54e1… => PackageInfo(\"Logging\", nothing, nothing, false, …\n",
       "  UUID(\"69de0a69-1ddd-5017… => PackageInfo(\"Parsers\", v\"1.0.3\", \"72c34519325134…\n",
       "  UUID(\"864edb3b-99cc-5e75… => PackageInfo(\"DataStructures\", v\"0.17.15\", \"6166e…\n",
       "  UUID(\"e1d29d7a-bbdc-5cf2… => PackageInfo(\"Missings\", v\"0.4.3\", \"de0a5ce9e5289…\n",
       "  UUID(\"9a962f9c-6df0-11e9… => PackageInfo(\"DataAPI\", v\"1.3.0\", \"176e23402d80e7…\n",
       "  UUID(\"b85f4697-e234-5449… => PackageInfo(\"SoftGlobalScope\", v\"1.0.10\", \"01266…\n",
       "  UUID(\"336ed68f-0bac-5ca0… => PackageInfo(\"CSV\", v\"0.6.2\", \"52a8e60c7822f53d57…\n",
       "  UUID(\"bac558e1-5e72-5ebc… => PackageInfo(\"OrderedCollections\", v\"1.2.0\", \"12c…\n",
       "  UUID(\"3fa0cd96-eef1-5676… => PackageInfo(\"REPL\", nothing, nothing, false, fal…\n",
       "  UUID(\"76f85450-5226-5b5a… => PackageInfo(\"LibGit2\", nothing, nothing, false, …\n",
       "  UUID(\"2a0f44e3-6c83-55bd… => PackageInfo(\"Base64\", nothing, nothing, false, f…\n",
       "  UUID(\"37e2e46d-f89d-539d… => PackageInfo(\"LinearAlgebra\", nothing, nothing, f…\n",
       "  UUID(\"739be429-bea8-5141… => PackageInfo(\"MbedTLS\", v\"1.0.2\", \"426a6978b03a97…\n",
       "  UUID(\"44cfe95a-1eb2-52ea… => PackageInfo(\"Pkg\", nothing, nothing, false, fals…\n",
       "  UUID(\"682c06a0-de6a-54ab… => PackageInfo(\"JSON\", v\"0.21.0\", \"b34d7cef7b337321…\n",
       "  UUID(\"b77e0a4c-d291-57a0… => PackageInfo(\"InteractiveUtils\", nothing, nothing…\n",
       "  UUID(\"48062228-2e41-5def… => PackageInfo(\"FilePathsBase\", v\"0.8.0\", \"923fd3b9…\n",
       "  UUID(\"189a3867-3050-52da… => PackageInfo(\"Reexport\", v\"0.2.0\", \"7b1d07f411bc8…\n",
       "  UUID(\"8f4d0f93-b110-5947… => PackageInfo(\"Conda\", v\"1.4.1\", \"7a58bb32ce5d85f8…\n",
       "  UUID(\"8ba89e20-285c-5b6f… => PackageInfo(\"Distributed\", nothing, nothing, fal…\n",
       "  UUID(\"ea8e919c-243c-51af… => PackageInfo(\"SHA\", nothing, nothing, false, fals…\n",
       "  UUID(\"9fa8497b-333b-5362… => PackageInfo(\"Future\", nothing, nothing, false, f…\n",
       "  UUID(\"82899510-4779-5014… => PackageInfo(\"IteratorInterfaceExtensions\", v\"1.0…\n",
       "  UUID(\"81def892-9a0e-5fdd… => PackageInfo(\"VersionParsing\", v\"1.2.0\", \"80229be…\n",
       "  UUID(\"bd369af6-aec1-5ad0… => PackageInfo(\"Tables\", v\"1.0.4\", \"c45dcc27331feba…\n",
       "  ⋮                         => ⋮"
      ]
     },
     "execution_count": 4,
     "metadata": {},
     "output_type": "execute_result"
    }
   ],
   "source": [
    "Pkg.dependencies()"
   ]
  },
  {
   "cell_type": "code",
   "execution_count": null,
   "metadata": {},
   "outputs": [],
   "source": []
  }
 ],
 "metadata": {
  "colab": {
   "name": "Day_003_hw.ipynb",
   "provenance": []
  },
  "kernelspec": {
   "display_name": "Julia 1.4.1",
   "language": "julia",
   "name": "julia-1.4"
  },
  "language_info": {
   "file_extension": ".jl",
   "mimetype": "application/julia",
   "name": "julia",
   "version": "1.4.1"
  }
 },
 "nbformat": 4,
 "nbformat_minor": 4
}
